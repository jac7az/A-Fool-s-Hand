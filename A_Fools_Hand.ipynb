{
  "nbformat": 4,
  "nbformat_minor": 0,
  "metadata": {
    "colab": {
      "provenance": []
    },
    "kernelspec": {
      "name": "python3",
      "display_name": "Python 3"
    },
    "language_info": {
      "name": "python"
    }
  },
  "cells": [
    {
      "cell_type": "markdown",
      "source": [
        "# Rules for A Fool's Hand\n",
        "\n",
        "\n",
        "1.   Each player starts with 5 cards in their hand\n",
        "2.   There are three groups in the middle, each with 2 cards in the middle\n",
        "3. 1 game is made up of 4 rounds, with one pair of cards in the middle uncovered each of the first three rounds. After each round, draw 2 cards.\n",
        "4.    A combo is formed using the cards in the middle and your own cards. Each combo has a set number of points, listed below. Each player can place up to 4 cards in their zone for each group to complete a combo. Once the cards are placed and the round ends, the cards cannot be moved at all, not to another group or back to the hand.\n",
        "5. During each round, players can discard up to 3 cards in their hand in exchange for new ones.\n",
        "6.  At the end of the 4th round, compare who has the most points between each of the 3 groups. Best out of 3 wins.\n",
        "\n",
        "# Combos\n",
        "\n",
        "\n",
        "*   Straight Flush: 120 points\n",
        "*   Four Knights: 80 points\n",
        "* Flush: 65 points\n",
        "* Straight: 60 points\n",
        "* Full House: 55 points\n",
        "* Twin Pairs: 30 points\n",
        "* Three Sages: 30 points\n",
        "* Two Stars: 15 points\n",
        "* No Hand: 0 points\n"
      ],
      "metadata": {
        "id": "VjzELL1WiW_1"
      }
    },
    {
      "cell_type": "code",
      "source": [
        "import random\n",
        "from itertools import product\n",
        "from random import shuffle\n",
        "from collections import Counter"
      ],
      "metadata": {
        "id": "Gy6vvNjjqZ3D"
      },
      "execution_count": 1,
      "outputs": []
    },
    {
      "cell_type": "code",
      "source": [
        "def create_deck():\n",
        "  suits = ['Hearts', 'Diamonds', 'Clubs', 'Spades']\n",
        "  ranks = ['2', '3', '4', '5', '6', '7', '8', '9', '10', 'J', 'Q', 'K', 'A']\n",
        "  deck = []\n",
        "  for suit in suits:\n",
        "    for rank in ranks:\n",
        "      deck.append((suit,rank))\n",
        "  random.shuffle(deck)\n",
        "  return deck"
      ],
      "metadata": {
        "id": "MWvGGfGJTXGa"
      },
      "execution_count": 2,
      "outputs": []
    },
    {
      "cell_type": "code",
      "source": [
        "combos={'Straight Flush': 120, 'Four Knights': 80, 'Straight': 60,\n",
        "    'Flush': 60, 'Full House': 55, 'Twin Pairs': 30,\n",
        "    'Three Sages': 30, 'Two Stars': 15, 'No Hand': 0}"
      ],
      "metadata": {
        "id": "fQGLOVggsXla"
      },
      "execution_count": 3,
      "outputs": []
    },
    {
      "cell_type": "code",
      "source": [
        "def draw(num_cards,player_hand, deck):\n",
        "  for card in range(num_cards):\n",
        "    if len(deck)!=0:\n",
        "      player_hand.append(deck.pop())\n",
        "\n",
        "#input: which card would you like to discard\n",
        "def discard(player_hand,trash,deck):\n",
        "  num_discard=0\n",
        "  while num_discard<3:\n",
        "    print(\"Current hand: \", player_hand)\n",
        "    try:\n",
        "      answer=input(\"Enter the card position of your hand to discard or press 'c' to cancel: \").strip()\n",
        "      if answer.lower()=='c':\n",
        "        break\n",
        "      elif 0<int(answer)<=len(player_hand):\n",
        "        trash.append(player_hand.pop(int(answer)-1))\n",
        "        draw(1,player_hand,deck)\n",
        "        num_discard+=1\n",
        "      else:\n",
        "        print(\"Invalid input. Please try again\")\n",
        "    except ValueError:\n",
        "      print(\"Invalid input. Please try again\")\n",
        "\n",
        "def play(player_hand, player_zones):\n",
        "  while len(player_hand)>0:\n",
        "    print(player_hand)\n",
        "    card=input(\"Enter the position of the card you want to play: \").strip()\n",
        "    zone=input(\"Enter the zone (1-3) to place it in: \").strip()\n",
        "    try:\n",
        "      card=int(card)\n",
        "      zone= int(zone)\n",
        "      if 0<=card-1<len(player_hand) and zone-1<3:\n",
        "        if len(player_zones[zone-1])<=4:\n",
        "          player_zones[zone-1].append(player_hand.pop(card-1))\n",
        "        else:\n",
        "          print(\"Maximum cards placed. Choose another zone.\")\n",
        "      else:\n",
        "        print(\"Invalid input. Please try again.\")\n",
        "    except ValueError:\n",
        "      print(\"Invalid input. Please try again.\")"
      ],
      "metadata": {
        "id": "N6wzWQVUg4t5"
      },
      "execution_count": 4,
      "outputs": []
    },
    {
      "cell_type": "code",
      "source": [
        "def is_straight(ranks): #5 cards in sequential order\n",
        "  if len(ranks)<5:\n",
        "    return False\n",
        "  ranks=set(ranks)\n",
        "  rank_dict= {'2': 2, '3': 3, '4': 4, '5': 5, '6': 6, '7': 7, '8': 8,\n",
        "                '9': 9, '10': 10, 'J': 11, 'Q': 12, 'K': 13, 'A':14}\n",
        "  in_order=set()\n",
        "  for rank in ranks:\n",
        "    in_order.add(rank_dict[rank])\n",
        "  ##Ace=1\n",
        "  if {14, 2, 3, 4, 5}.issubset(in_order):\n",
        "    print(\"Straight\")\n",
        "    return 60\n",
        "  ##All other straights, including Ace=14\n",
        "  in_order=sorted(list(in_order))\n",
        "  straight_counter=1\n",
        "  for i in range(len(in_order)-1):\n",
        "    if in_order[i]+1==in_order[i+1]:\n",
        "      straight_counter+=1\n",
        "    else:\n",
        "      straight_counter=1\n",
        "    if straight_counter>=5:\n",
        "      print(\"Straight\")\n",
        "      return 60\n",
        "  return 0\n",
        "\n",
        "def is_flush(suits): #When 5 suits are the same\n",
        "  if len(suits)<5:\n",
        "    return 0\n",
        "  counts=Counter(suits)\n",
        "  for count in counts.values():\n",
        "    if count>=5:\n",
        "      print(\"Flush\")\n",
        "      return 65\n",
        "  return 0\n",
        "\n",
        "# def is_straight_flush(suits,ranks): #5 cards in sequential order, all with the same suit\n",
        "#   if is_flush(suits) and is_straight(ranks):\n",
        "#     return 125\n",
        "#   return 0\n",
        "\n",
        "def is_four_knights(ranks):\n",
        "  if len(ranks)<4:\n",
        "    return 0\n",
        "  counts=Counter(ranks)\n",
        "  for count in counts.values():\n",
        "    if count>=4:\n",
        "      return 80\n",
        "  return 0\n",
        "\n",
        "def is_full_house(ranks):\n",
        "  if len(ranks)<5:\n",
        "    return 0\n",
        "  counts=Counter(ranks)\n",
        "  if 3 in counts.values() and 2 in counts.values():\n",
        "    print(\"Full House\")\n",
        "    return 55\n",
        "  return 0\n",
        "\n",
        "def three_sages(ranks):\n",
        "  if len(ranks)<3:\n",
        "    return 0\n",
        "  counts=Counter(ranks)\n",
        "  points=0\n",
        "  num_three=0\n",
        "  for count in counts.values():\n",
        "    if count==3:\n",
        "      num_three+=1\n",
        "      points+=30\n",
        "  if points!=0:\n",
        "    print(num_three,\"Three Sages\")\n",
        "  return points\n",
        "\n",
        "def pairs(ranks):\n",
        "  if len(ranks)<2:\n",
        "    return 0\n",
        "  counts=Counter(ranks)\n",
        "  points=0\n",
        "  num_pairs=0\n",
        "  for count in counts.values():\n",
        "    if count==2:\n",
        "      num_pairs+=1\n",
        "      points+=15\n",
        "  if points!=0:\n",
        "    print(num_pairs,\"Pairs\")\n",
        "  return points"
      ],
      "metadata": {
        "id": "fMeHYNhy9m4w"
      },
      "execution_count": 21,
      "outputs": []
    },
    {
      "cell_type": "code",
      "source": [
        "def score(middle_zone,player_zone):\n",
        "  ranks=[]\n",
        "  suits=[]\n",
        "  for card in middle_zone:\n",
        "    ranks.append(card[1])\n",
        "    suits.append(card[0])\n",
        "  for card in player_zone:\n",
        "    ranks.append(card[1])\n",
        "    suits.append(card[0])\n",
        "  points=is_four_knights(ranks)+is_straight(ranks)+is_flush(suits)+is_full_house(ranks)+three_sages(ranks)+pairs(ranks)\n",
        "  return points"
      ],
      "metadata": {
        "id": "OOqGgAz0-I7T"
      },
      "execution_count": 56,
      "outputs": []
    },
    {
      "cell_type": "code",
      "source": [
        "def main():\n",
        "  deck=create_deck()\n",
        "\n",
        "  player_hand=[]\n",
        "  player_zones=[[],[],[]]\n",
        "  middle=[[],[],[]]\n",
        "  trash=[]\n",
        "\n",
        "  for card in range(5):\n",
        "    player_hand.append(deck.pop())\n",
        "  for group in middle:\n",
        "    for card in range(2):\n",
        "      group.append(deck.pop())\n",
        "  deck"
      ],
      "metadata": {
        "id": "3q_bO0SSYif1"
      },
      "execution_count": 23,
      "outputs": []
    },
    {
      "cell_type": "code",
      "source": [
        "score([('Diamonds', '10'), ('Diamonds', '10')],[('Diamonds', '8'), ('Diamonds', 'J'),('Diamonds', 'Q')])"
      ],
      "metadata": {
        "colab": {
          "base_uri": "https://localhost:8080/"
        },
        "id": "tS6iVxMNXfzu",
        "outputId": "c0248963-a390-47de-aa36-92acfbf948d8"
      },
      "execution_count": 57,
      "outputs": [
        {
          "output_type": "stream",
          "name": "stdout",
          "text": [
            "Flush\n",
            "1 Pairs\n"
          ]
        },
        {
          "output_type": "execute_result",
          "data": {
            "text/plain": [
              "80"
            ]
          },
          "metadata": {},
          "execution_count": 57
        }
      ]
    }
  ]
}